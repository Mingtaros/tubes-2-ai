{
 "cells": [
  {
   "cell_type": "code",
   "execution_count": 25,
   "metadata": {},
   "outputs": [],
   "source": [
    "import cv2\n",
    "from random import randint\n",
    "import numpy as np\n",
    "from numpy.linalg import norm\n",
    "from functools import reduce"
   ]
  },
  {
   "cell_type": "code",
   "execution_count": 3,
   "metadata": {},
   "outputs": [],
   "source": [
    "def show(x, name):\n",
    "    cv2.imshow(name, x)\n",
    "    print(cv2.waitKey(0))\n",
    "    cv2.destroyAllWindows()\n",
    "\n",
    "def sekip(x):\n",
    "    pass"
   ]
  },
  {
   "cell_type": "code",
   "execution_count": 216,
   "metadata": {},
   "outputs": [
    {
     "name": "stdout",
     "output_type": "stream",
     "text": [
      "box.jpeg   car.jpeg\t      pentagon.jpg  rectangle.jpg\r\n",
      "car2.webp  elipse_circle.png  rect2.png     test_shape.jpg\r\n"
     ]
    }
   ],
   "source": [
    "!ls images"
   ]
  },
  {
   "cell_type": "code",
   "execution_count": 257,
   "metadata": {},
   "outputs": [],
   "source": [
    "def sudutTigaTitik(a, b, c):\n",
    "    # Return sudut antara garis a-b dan b-c\n",
    "    vAB = b - a\n",
    "    vBC = b - c\n",
    "    \n",
    "    dot = np.dot(vAB, vBC)\n",
    "    dAB = norm(vAB)\n",
    "    dBC = norm(vBC)\n",
    "    \n",
    "    return np.rad2deg(np.arccos(dot/(dAB*dBC)))\n",
    "\n",
    "def createTrackbar():\n",
    "    cv2.namedWindow('setting')\n",
    "    cv2.createTrackbar('d', 'setting', 14, 50, sekip)\n",
    "    cv2.createTrackbar('sigmaColor', 'setting', 93, 200, sekip)\n",
    "    cv2.createTrackbar('sigmaSpace', 'setting', 71, 200, sekip)\n",
    "    cv2.createTrackbar('kSize', 'setting', 6, 10, sekip)\n",
    "    cv2.createTrackbar('thres', 'setting', 47, 255, sekip)\n",
    "\n",
    "def preProcImg(img):\n",
    "    sigma = 0.33\n",
    "    pp = img.copy()\n",
    "\n",
    "    #Smoothing Image\n",
    "    d = cv2.getTrackbarPos('d', 'setting')+1\n",
    "    sigmaColor = cv2.getTrackbarPos('sigmaColor', 'setting')\n",
    "    sigmaSpace =cv2.getTrackbarPos('sigmaSpace', 'setting')\n",
    "    pp = cv2.bilateralFilter(pp, d, sigmaColor, sigmaSpace)\n",
    "    pp = cv2.cvtColor(pp, cv2.COLOR_BGR2GRAY)\n",
    "    \n",
    "    #Morphology Transformation\n",
    "    kSize = cv2.getTrackbarPos('kSize', 'setting')\n",
    "    kernel = np.ones((kSize, kSize), np.uint8)\n",
    "    pp = cv2.morphologyEx(pp, cv2.MORPH_GRADIENT, kernel)\n",
    "    \n",
    "    #Thresholding\n",
    "    thres = cv2.getTrackbarPos('thres', 'setting')\n",
    "    pp = cv2.threshold(pp,thres,255,cv2.THRESH_BINARY_INV)\n",
    "    pp = cv2.bitwise_not(pp[1])\n",
    "    \n",
    "    # Apply Canny\n",
    "    v = np.median(pp)\n",
    "    lower = int(max(0, (1.0 - sigma) * v))\n",
    "    upper = int(min(255, (1.0 + sigma) * v))\n",
    "    pp = cv2.Canny(pp, lower, upper)\n",
    "    pp = cv2.copyTo(img, pp)\n",
    "    pp = cv2.cvtColor(pp, cv2.COLOR_BGR2GRAY)\n",
    "    cv2.imshow('Pre-Proc', pp)\n",
    "    return pp"
   ]
  },
  {
   "cell_type": "code",
   "execution_count": 261,
   "metadata": {},
   "outputs": [
    {
     "name": "stderr",
     "output_type": "stream",
     "text": [
      "/home/aditya/anaconda3/lib/python3.7/site-packages/ipykernel_launcher.py:10: RuntimeWarning: invalid value encountered in arccos\n",
      "  # Remove the CWD from sys.path while we load stuff.\n",
      "/home/aditya/anaconda3/lib/python3.7/site-packages/ipykernel_launcher.py:10: RuntimeWarning: invalid value encountered in true_divide\n",
      "  # Remove the CWD from sys.path while we load stuff.\n"
     ]
    }
   ],
   "source": [
    "img = cv2.imread('images/test_shape.jpg')\n",
    "img = cv2.resize(img, (800, 800))\n",
    "\n",
    "createTrackbar()\n",
    "while True:\n",
    "    ctr = img.copy()\n",
    "    \n",
    "    pp = preProcImg(img)\n",
    "    \n",
    "    #Contour detection\n",
    "    con, tree = cv2.findContours(pp, cv2.RETR_TREE, cv2.CHAIN_APPROX_SIMPLE)\n",
    "    conArea = [(i,cv2.contourArea(c)) for i,c in enumerate(con)]\n",
    "    conArea.sort(key=lambda x : x[1], reverse=True)\n",
    "    maxNumContour = 30\n",
    "    eps = 30\n",
    "    epsTitik = 30\n",
    "        \n",
    "    sudutPoly = []\n",
    "    for i in range(min(len(conArea), maxNumContour)):\n",
    "        color = (randint(0, 255), randint(0, 255), randint(0, 255))\n",
    "        ctr = cv2.drawContours(ctr, con, conArea[i][0], color, 3)\n",
    "#         has = simplifikasiTitik(DouglasPeucker(con[conArea[i][0]], eps), epsTitik)\n",
    "        approx = cv2.approxPolyDP(con[conArea[i][0]], 0.01*cv2.arcLength(con[conArea[i][0]], True), True)\n",
    "        for a in approx:\n",
    "            x,y = a[0]\n",
    "            ctr = cv2.circle(ctr, (x, y), 3, (0, 0, 255), 3)\n",
    "        if(len(approx) > 2):\n",
    "            sudut = []\n",
    "            for i in range(len(approx)-2):\n",
    "                p1 = approx[i][0]\n",
    "                p2 = approx[i+1][0]\n",
    "                p3 = approx[i+2][0]\n",
    "                sudut.append(sudutTigaTitik(p1, p2, p3))\n",
    "            sudut.append(sudutTigaTitik(approx[i][0], approx[i+1][0], approx[0][0]))\n",
    "            sudutPoly.append((conArea[i][0], sudut))\n",
    "    cv2.imshow('Contour', ctr)\n",
    "    key = cv2.waitKey(1)\n",
    "    if(key == ord('q')):\n",
    "        break\n",
    "    elif(key == ord('n')):\n",
    "        continue\n",
    "cv2.destroyAllWindows()"
   ]
  },
  {
   "cell_type": "code",
   "execution_count": 259,
   "metadata": {},
   "outputs": [
    {
     "data": {
      "text/plain": [
       "[(453,\n",
       "  [108.30512477127822,\n",
       "   91.30195267257888,\n",
       "   7.870716794399954,\n",
       "   168.13030936165322,\n",
       "   136.1160103914073,\n",
       "   123.28040090500583]),\n",
       " (313,\n",
       "  [159.69843943725655,\n",
       "   138.1908868120298,\n",
       "   172.2866590415682,\n",
       "   68.96248897457819,\n",
       "   21.21707514313354]),\n",
       " (253,\n",
       "  [90.0,\n",
       "   116.56505117707799,\n",
       "   53.13010235415599,\n",
       "   150.2551187030578,\n",
       "   130.36453657309735,\n",
       "   133.09084756700364,\n",
       "   149.03624346792648,\n",
       "   81.2538377374448,\n",
       "   129.70991879462875,\n",
       "   149.03624346792648,\n",
       "   155.5560452195835,\n",
       "   160.31968691030963,\n",
       "   118.92642583525362,\n",
       "   145.49147701233161]),\n",
       " (254,\n",
       "  [135.0,\n",
       "   108.43494882292202,\n",
       "   103.67130713219584,\n",
       "   160.31968691030963,\n",
       "   155.5560452195835,\n",
       "   135.0,\n",
       "   141.34019174590992,\n",
       "   91.78991060824607,\n",
       "   140.9061411137705,\n",
       "   131.9335144988741,\n",
       "   126.02737338510362,\n",
       "   153.434948822922,\n",
       "   71.56505117707799,\n",
       "   135.0,\n",
       "   84.8055710922652]),\n",
       " (313,\n",
       "  [154.87978825768568,\n",
       "   43.13232116056583,\n",
       "   155.24662007558823,\n",
       "   165.40162729814705,\n",
       "   158.80799081994735]),\n",
       " (453,\n",
       "  [167.47119229084848,\n",
       "   163.68614757373945,\n",
       "   118.84266013541206,\n",
       "   79.15969454566944,\n",
       "   157.1502379283508,\n",
       "   152.96532180323237]),\n",
       " (310,\n",
       "  [148.24051991518718,\n",
       "   140.19442890773482,\n",
       "   153.43494882292202,\n",
       "   161.56505117707798,\n",
       "   165.96375653207352,\n",
       "   140.9061411137705,\n",
       "   143.13010235415598,\n",
       "   135.0,\n",
       "   140.19442890773482,\n",
       "   120.25643716352927]),\n",
       " (483,\n",
       "  [132.65586752593015,\n",
       "   140.71059313749964,\n",
       "   135.0,\n",
       "   153.434948822922,\n",
       "   138.3664606634298,\n",
       "   153.0041616059134,\n",
       "   140.1944289077348,\n",
       "   116.99583839408663]),\n",
       " (311,\n",
       "  [116.56505117707799,\n",
       "   126.86989764584402,\n",
       "   104.39046324874091,\n",
       "   149.34933204294714,\n",
       "   143.13010235415595,\n",
       "   146.30993247402023,\n",
       "   90.0,\n",
       "   109.4400348281762,\n",
       "   153.434948822922,\n",
       "   105.94539590092286,\n",
       "   93.17983011986423]),\n",
       " (635,\n",
       "  [131.18592516570965,\n",
       "   138.81407483429035,\n",
       "   142.12501634890182,\n",
       "   90.0,\n",
       "   116.56505117707799,\n",
       "   146.30993247402023,\n",
       "   128.6598082540901,\n",
       "   141.34019174590992,\n",
       "   135.0,\n",
       "   140.71059313749967,\n",
       "   105.17291534552527,\n",
       "   144.46232220802563,\n",
       "   115.40771810894849]),\n",
       " (635,\n",
       "  [139.3987053549955,\n",
       "   157.83365417791757,\n",
       "   126.86989764584402,\n",
       "   135.0,\n",
       "   135.0,\n",
       "   83.6598082540901,\n",
       "   128.6598082540901,\n",
       "   101.30993247402021,\n",
       "   168.6900675259798,\n",
       "   123.6900675259798,\n",
       "   140.5993393365206,\n",
       "   140.5993393365206,\n",
       "   167.1643905135986]),\n",
       " (655,\n",
       "  [135.0,\n",
       "   135.0,\n",
       "   116.56505117707799,\n",
       "   119.74488129694222,\n",
       "   11.309932474020227,\n",
       "   111.80140948635182,\n",
       "   118.14160123226173,\n",
       "   128.6598082540901,\n",
       "   130.91438322002512,\n",
       "   100.42580852588478,\n",
       "   123.46537934635528,\n",
       "   76.7594800848128,\n",
       "   116.56505117707799,\n",
       "   18.434948822922017,\n",
       "   81.86989764584403,\n",
       "   7.125016348901757,\n",
       "   105.25511870305779,\n",
       "   108.43494882292201,\n",
       "   45.00000000000001]),\n",
       " (484,\n",
       "  [135.0,\n",
       "   160.3461759419467,\n",
       "   143.3438915840331,\n",
       "   146.30993247402023,\n",
       "   135.0,\n",
       "   135.0,\n",
       "   158.96248897457818,\n",
       "   147.9074086712658,\n",
       "   127.73675525941545]),\n",
       " (310,\n",
       "  [127.87498365109822,\n",
       "   142.12501634890182,\n",
       "   153.434948822922,\n",
       "   153.434948822922,\n",
       "   135.0,\n",
       "   135.0,\n",
       "   146.30993247402023,\n",
       "   143.3438915840331,\n",
       "   160.3461759419467,\n",
       "   147.8173682327952]),\n",
       " (312,\n",
       "  [122.35784767211014,\n",
       "   50.51713597898805,\n",
       "   131.28471089457122,\n",
       "   128.73251859515074]),\n",
       " (312,\n",
       "  [158.36911316348207,\n",
       "   131.28471089457122,\n",
       "   50.51713597898805,\n",
       "   48.98352581385067]),\n",
       " (313,\n",
       "  [114.31234142956515,\n",
       "   65.68765857043486,\n",
       "   126.86989764584402,\n",
       "   168.69006752597977,\n",
       "   166.1757004957386]),\n",
       " (313,\n",
       "  [155.18286912757316,\n",
       "   83.85337434035333,\n",
       "   111.80140948635182,\n",
       "   165.6701496902406,\n",
       "   162.59729586864373]),\n",
       " (313,\n",
       "  [154.44003482817618,\n",
       "   157.38013505195957,\n",
       "   36.08507304285213,\n",
       "   166.77808462345314,\n",
       "   164.19748604606445]),\n",
       " (312,\n",
       "  [135.65854317756362,\n",
       "   148.81175092250228,\n",
       "   33.385912296738326,\n",
       "   31.333401593920545]),\n",
       " (313,\n",
       "  [155.27815781534153,\n",
       "   83.75808565258495,\n",
       "   116.56505117707799,\n",
       "   159.67686317033704,\n",
       "   157.83365417791757]),\n",
       " (313,\n",
       "  [141.05419189411484,\n",
       "   83.94580810588516,\n",
       "   111.80140948635182,\n",
       "   164.53878225955808,\n",
       "   162.6657495750375]),\n",
       " (313,\n",
       "  [128.8844964337146,\n",
       "   174.8055710922652,\n",
       "   119.74488129694222,\n",
       "   66.2092261342228,\n",
       "   64.13364320590549]),\n",
       " (313,\n",
       "  [129.14398641457106,\n",
       "   177.42904456394803,\n",
       "   116.86191784440267,\n",
       "   66.37062226934319,\n",
       "   64.13364320590549]),\n",
       " (311,\n",
       "  [153.434948822922,\n",
       "   143.13010235415598,\n",
       "   136.33221985386967,\n",
       "   150.80251395393555,\n",
       "   141.34019174590992,\n",
       "   153.434948822922,\n",
       "   116.56505117707799,\n",
       "   135.0,\n",
       "   135.0,\n",
       "   120.96375653207352,\n",
       "   160.3461759419467]),\n",
       " (311,\n",
       "  [144.54452556555813,\n",
       "   105.70863782901574,\n",
       "   120.96375653207352,\n",
       "   90.0,\n",
       "   108.43494882292202,\n",
       "   91.78991060824607,\n",
       "   114.77514056883193,\n",
       "   135.0,\n",
       "   135.0,\n",
       "   126.86989764584402,\n",
       "   141.34019174590992]),\n",
       " (634,\n",
       "  [135.0,\n",
       "   128.6598082540901,\n",
       "   128.6598082540901,\n",
       "   135.0,\n",
       "   135.0,\n",
       "   135.0,\n",
       "   135.0,\n",
       "   153.434948822922,\n",
       "   150.2551187030578,\n",
       "   123.6900675259798,\n",
       "   135.0,\n",
       "   109.98310652189998]),\n",
       " (634,\n",
       "  [90.0,\n",
       "   135.0,\n",
       "   135.0,\n",
       "   135.0,\n",
       "   123.69006752597979,\n",
       "   160.34617594194668,\n",
       "   102.52880770915151,\n",
       "   97.1250163489018,\n",
       "   123.6900675259798,\n",
       "   75.96375653207353,\n",
       "   111.5014343240479,\n",
       "   94.39870535499554]),\n",
       " (311,\n",
       "  [135.0,\n",
       "   153.434948822922,\n",
       "   116.56505117707799,\n",
       "   123.6900675259798,\n",
       "   146.30993247402023,\n",
       "   135.0,\n",
       "   135.0,\n",
       "   135.0,\n",
       "   126.86989764584402,\n",
       "   135.0,\n",
       "   111.61477894278626]),\n",
       " (634,\n",
       "  [153.434948822922,\n",
       "   143.13010235415595,\n",
       "   153.434948822922,\n",
       "   135.0,\n",
       "   135.0,\n",
       "   90.0,\n",
       "   135.0,\n",
       "   135.0,\n",
       "   111.80140948635182,\n",
       "   138.3664606634298,\n",
       "   153.434948822922,\n",
       "   138.17983011986425])]"
      ]
     },
     "execution_count": 259,
     "metadata": {},
     "output_type": "execute_result"
    }
   ],
   "source": [
    "sudutPoly"
   ]
  },
  {
   "cell_type": "code",
   "execution_count": 9,
   "metadata": {},
   "outputs": [],
   "source": [
    "cv2.destroyAllWindows()"
   ]
  },
  {
   "cell_type": "code",
   "execution_count": 234,
   "metadata": {},
   "outputs": [],
   "source": [
    "def DouglasPeucker(titik, eps):\n",
    "    dmax = 0\n",
    "    index = 0\n",
    "    end = len(titik)\n",
    "    pEnd = titik[end-1][0]\n",
    "    pStart = titik[0][0]\n",
    "    for i in range(2, end-1):\n",
    "        p = titik[i][0]\n",
    "        d = norm(np.cross(pEnd-pStart, pStart-p))/norm(pEnd-pStart)\n",
    "        if(d > dmax):\n",
    "            index = i\n",
    "            dmax = d\n",
    "    hasil = []\n",
    "    if(dmax > eps):\n",
    "#         Rekursif\n",
    "        hasil1 = DouglasPeucker(titik[:index], eps)\n",
    "        hasil2 = DouglasPeucker(titik[index:], eps)\n",
    "        hasil = hasil1 + hasil2\n",
    "    else:\n",
    "        hasil = [pStart, pEnd]\n",
    "    return hasil\n",
    "\n",
    "def simplifikasiTitik(has, epsTitik):\n",
    "    delSoon = set([])\n",
    "    for i, h in enumerate(has):\n",
    "        for j, cek in enumerate(has):\n",
    "            if(norm(cek-h) < epsTitik and i < j):\n",
    "                delSoon.update({j})\n",
    "    titikSimple = [h for idx, h in enumerate(has) if idx not in delSoon]\n",
    "    return titikSimple"
   ]
  },
  {
   "cell_type": "code",
   "execution_count": 238,
   "metadata": {},
   "outputs": [
    {
     "name": "stdout",
     "output_type": "stream",
     "text": [
      "45.00000000000001\n"
     ]
    }
   ],
   "source": [
    "p1 = np.array([0, 0])\n",
    "p2 = np.array([1, 0])\n",
    "p3 = np.array([2, -1])\n",
    "print(sudutTigaTitik(p1, p2, p3))"
   ]
  },
  {
   "cell_type": "code",
   "execution_count": 246,
   "metadata": {},
   "outputs": [
    {
     "data": {
      "text/plain": [
       "array([[[505,  78]],\n",
       "\n",
       "       [[499,  78]],\n",
       "\n",
       "       [[497,  79]],\n",
       "\n",
       "       [[495,  83]],\n",
       "\n",
       "       [[495,  87]],\n",
       "\n",
       "       [[491,  91]],\n",
       "\n",
       "       [[491, 100]],\n",
       "\n",
       "       [[501, 100]],\n",
       "\n",
       "       [[502,  99]],\n",
       "\n",
       "       [[502,  93]],\n",
       "\n",
       "       [[507,  91]],\n",
       "\n",
       "       [[508,  89]],\n",
       "\n",
       "       [[508,  80]]], dtype=int32)"
      ]
     },
     "execution_count": 246,
     "metadata": {},
     "output_type": "execute_result"
    }
   ],
   "source": [
    "approx"
   ]
  },
  {
   "cell_type": "code",
   "execution_count": 255,
   "metadata": {},
   "outputs": [
    {
     "name": "stdout",
     "output_type": "stream",
     "text": [
      "6.0   2.23606797749979   -12\n"
     ]
    },
    {
     "data": {
      "text/plain": [
       "153.434948822922"
      ]
     },
     "execution_count": 255,
     "metadata": {},
     "output_type": "execute_result"
    }
   ],
   "source": [
    "sudutTigaTitik(approx[0][0], approx[1][0], approx[2][0] )"
   ]
  },
  {
   "cell_type": "code",
   "execution_count": 250,
   "metadata": {},
   "outputs": [
    {
     "data": {
      "text/plain": [
       "0.8928571428571428"
      ]
     },
     "execution_count": 250,
     "metadata": {},
     "output_type": "execute_result"
    }
   ],
   "source": [
    "12 / (6 * 2.24)"
   ]
  },
  {
   "cell_type": "code",
   "execution_count": 251,
   "metadata": {},
   "outputs": [
    {
     "data": {
      "text/plain": [
       "0.4690458582650856"
      ]
     },
     "execution_count": 251,
     "metadata": {},
     "output_type": "execute_result"
    }
   ],
   "source": [
    "np.arccos(0.892)"
   ]
  },
  {
   "cell_type": "code",
   "execution_count": 252,
   "metadata": {},
   "outputs": [
    {
     "data": {
      "text/plain": [
       "26.871720591635608"
      ]
     },
     "execution_count": 252,
     "metadata": {},
     "output_type": "execute_result"
    }
   ],
   "source": [
    "np.rad2deg(0.469)"
   ]
  },
  {
   "cell_type": "code",
   "execution_count": 260,
   "metadata": {},
   "outputs": [
    {
     "name": "stdout",
     "output_type": "stream",
     "text": [
      "113\n"
     ]
    }
   ],
   "source": [
    "img = cv2.imread('images/car.jpeg')\n",
    "img = cv2.resize(img, (800, 800))\n",
    "ctr = cv2.drawContours(img, con, 634, color, 3)\n",
    "show(ctr, 'o')"
   ]
  },
  {
   "cell_type": "code",
   "execution_count": null,
   "metadata": {},
   "outputs": [],
   "source": []
  }
 ],
 "metadata": {
  "kernelspec": {
   "display_name": "Python 3",
   "language": "python",
   "name": "python3"
  },
  "language_info": {
   "codemirror_mode": {
    "name": "ipython",
    "version": 3
   },
   "file_extension": ".py",
   "mimetype": "text/x-python",
   "name": "python",
   "nbconvert_exporter": "python",
   "pygments_lexer": "ipython3",
   "version": "3.6.8"
  }
 },
 "nbformat": 4,
 "nbformat_minor": 2
}
